{
 "cells": [
  {
   "cell_type": "code",
   "execution_count": 1,
   "metadata": {},
   "outputs": [
    {
     "name": "stdout",
     "output_type": "stream",
     "text": [
      "{'coord': {'lon': 8.5167, 'lat': 12.0001}, 'weather': [{'id': 800, 'main': 'Clear', 'description': 'clear sky', 'icon': '01d'}], 'base': 'stations', 'main': {'temp': 299.24, 'feels_like': 299.24, 'temp_min': 299.24, 'temp_max': 299.24, 'pressure': 1016, 'humidity': 13, 'sea_level': 1016, 'grnd_level': 962}, 'visibility': 10000, 'wind': {'speed': 6.23, 'deg': 76, 'gust': 8.2}, 'clouds': {'all': 1}, 'dt': 1737884521, 'sys': {'country': 'NG', 'sunrise': 1737870674, 'sunset': 1737912328}, 'timezone': 3600, 'id': 2335204, 'name': 'Kano', 'cod': 200}\n",
      "{'coord': {'lon': 8.5167, 'lat': 12.0001}, 'weather': [{'id': 800, 'main': 'Clear', 'description': 'clear sky', 'icon': '01d'}], 'base': 'stations', 'main': {'temp': 299.24, 'feels_like': 299.24, 'temp_min': 299.24, 'temp_max': 299.24, 'pressure': 1016, 'humidity': 13, 'sea_level': 1016, 'grnd_level': 962}, 'visibility': 10000, 'wind': {'speed': 6.23, 'deg': 76, 'gust': 8.2}, 'clouds': {'all': 1}, 'dt': 1737884521, 'sys': {'country': 'NG', 'sunrise': 1737870674, 'sunset': 1737912328}, 'timezone': 3600, 'id': 2335204, 'name': 'Kano', 'cod': 200}\n"
     ]
    }
   ],
   "source": [
    "import requests\n",
    "\n",
    "API_KEY = '3aaa575bac929632e1e00cf301565205'\n",
    "city = 'Kano'\n",
    "url = f'http://api.openweathermap.org/data/2.5/weather?q={city}&appid={API_KEY}'\n",
    "\n",
    "response = requests.get(url)\n",
    "data = response.json()\n",
    "\n",
    "print(data)  # Print the data to see the structure\n",
    "data = response.json()\n",
    "\n",
    "print(data)  # Print the data to see the structure\n"
   ]
  }
 ],
 "metadata": {
  "kernelspec": {
   "display_name": "Python 3",
   "language": "python",
   "name": "python3"
  },
  "language_info": {
   "codemirror_mode": {
    "name": "ipython",
    "version": 3
   },
   "file_extension": ".py",
   "mimetype": "text/x-python",
   "name": "python",
   "nbconvert_exporter": "python",
   "pygments_lexer": "ipython3",
   "version": "3.12.4"
  }
 },
 "nbformat": 4,
 "nbformat_minor": 2
}
